{
 "cells": [
  {
   "cell_type": "markdown",
   "metadata": {},
   "source": [
    "\n",
    "   "
   ]
  },
  {
   "cell_type": "code",
   "execution_count": 1,
   "metadata": {
    "collapsed": false
   },
   "outputs": [
    {
     "name": "stdout",
     "output_type": "stream",
     "text": [
      "[['_:0', 'http://dilab77.ionio.gr/swp/xitiri/vocab#eksamino', '#:2'], ['_:0', 'http://dilab77.ionio.gr/swp/xitiri/vocab#dialeksh', '#:28/02/2017'], ['_:1', 'http://dilab77.ionio.gr/swp/xitiri/vocab#kathigiths', 'http://dilab77.ionio.gr/swp/you/resource/pateli'], ['_:1', 'http://dilab77.ionio.gr/swp/xitiri/vocab#mathima', 'http://dilab77.ionio.gr/swp/you/resource/epixiriasiakh'], ['_:1', 'http://dilab77.ionio.gr/swp/xitiri/vocab#aithousa', 'http://dilab77.ionio.gr/swp/you/resource/2'], ['_:1', 'http://dilab77.ionio.gr/swp/xitiri/vocab#eksamino', '#:2'], ['_:1', 'http://dilab77.ionio.gr/swp/xitiri/vocab#dialeksh', '#:20/02/2017'], ['_:2', 'http://dilab77.ionio.gr/swp/xitiri/vocab#kathigiths', 'http://dilab77.ionio.gr/swp/you/resource/blamos'], ['_:2', 'http://dilab77.ionio.gr/swp/xitiri/vocab#mathima', 'http://dilab77.ionio.gr/swp/you/resource/plhroforikh'], ['_:2', 'http://dilab77.ionio.gr/swp/xitiri/vocab#aithousa', 'http://dilab77.ionio.gr/swp/you/resource/1'], ['_:2', 'http://dilab77.ionio.gr/swp/xitiri/vocab#eksamino', '#:2'], ['_:2', 'http://dilab77.ionio.gr/swp/xitiri/vocab#dialeksh', '#:23/02/2017'], ['_:3', 'http://dilab77.ionio.gr/swp/xitiri/vocab#kathigiths', 'http://dilab77.ionio.gr/swp/you/resource/komianos'], ['_:3', 'http://dilab77.ionio.gr/swp/xitiri/vocab#mathima', 'http://dilab77.ionio.gr/swp/you/resource/psixagogiko'], ['_:3', 'http://dilab77.ionio.gr/swp/xitiri/vocab#aithousa', 'http://dilab77.ionio.gr/swp/you/resource/2'], ['_:3', 'http://dilab77.ionio.gr/swp/xitiri/vocab#eksamino', '#:2'], ['_:3', 'http://dilab77.ionio.gr/swp/xitiri/vocab#dialeksh', '#:22/02/2017'], ['_:4', 'http://dilab77.ionio.gr/swp/xitiri/vocab#kathigiths', 'http://dilab77.ionio.gr/swp/you/resource/tsoxoy'], ['_:4', 'http://dilab77.ionio.gr/swp/xitiri/vocab#mathima', 'http://dilab77.ionio.gr/swp/you/resource/asfaleia'], ['_:4', 'http://dilab77.ionio.gr/swp/xitiri/vocab#aithousa', 'http://dilab77.ionio.gr/swp/you/resource/3'], ['_:4', 'http://dilab77.ionio.gr/swp/xitiri/vocab#eksamino', '#:2'], ['_:4', 'http://dilab77.ionio.gr/swp/xitiri/vocab#dialeksh', '#:21/02/2017']]\n"
     ]
    }
   ],
   "source": [
    "# φορτώστε τις τριάδες από το αρχείο csv σε μια λίστα\n",
    "import csv\n",
    "eavlist = []\n",
    "with open('uri.csv','r',newline='') as ifp:    \n",
    "    ir = csv.reader(ifp)    \n",
    "    headers = next(ir)        \n",
    "    for row in ir:        \n",
    "        eavlist.append(row) \n",
    "print(eavlist)\n"
   ]
  },
  {
   "cell_type": "markdown",
   "metadata": {},
   "source": [
    "## Eδω εφτιαξα τον κωδικα για την παραγωγη του αρχικου n-Triple."
   ]
  },
  {
   "cell_type": "code",
   "execution_count": 2,
   "metadata": {
    "collapsed": false,
    "scrolled": true
   },
   "outputs": [
    {
     "name": "stdout",
     "output_type": "stream",
     "text": [
      "[['_:0', '<http://dilab77.ionio.gr/swp/xitiri/vocab#eksamino>', '\"2\"'], ['_:0', '<http://dilab77.ionio.gr/swp/xitiri/vocab#dialeksh>', '\"28-02-2017\"'], ['_:1', '<http://dilab77.ionio.gr/swp/xitiri/vocab#kathigiths>', '<http://dilab77.ionio.gr/swp/you/resource/pateli>'], ['_:1', '<http://dilab77.ionio.gr/swp/xitiri/vocab#mathima>', '<http://dilab77.ionio.gr/swp/you/resource/epixiriasiakh>'], ['_:1', '<http://dilab77.ionio.gr/swp/xitiri/vocab#aithousa>', '<http://dilab77.ionio.gr/swp/you/resource/2>'], ['_:1', '<http://dilab77.ionio.gr/swp/xitiri/vocab#eksamino>', '\"2\"'], ['_:1', '<http://dilab77.ionio.gr/swp/xitiri/vocab#dialeksh>', '\"20-02-2017\"'], ['_:2', '<http://dilab77.ionio.gr/swp/xitiri/vocab#kathigiths>', '<http://dilab77.ionio.gr/swp/you/resource/blamos>'], ['_:2', '<http://dilab77.ionio.gr/swp/xitiri/vocab#mathima>', '<http://dilab77.ionio.gr/swp/you/resource/plhroforikh>'], ['_:2', '<http://dilab77.ionio.gr/swp/xitiri/vocab#aithousa>', '<http://dilab77.ionio.gr/swp/you/resource/1>'], ['_:2', '<http://dilab77.ionio.gr/swp/xitiri/vocab#eksamino>', '\"2\"'], ['_:2', '<http://dilab77.ionio.gr/swp/xitiri/vocab#dialeksh>', '\"23-02-2017\"'], ['_:3', '<http://dilab77.ionio.gr/swp/xitiri/vocab#kathigiths>', '<http://dilab77.ionio.gr/swp/you/resource/komianos>'], ['_:3', '<http://dilab77.ionio.gr/swp/xitiri/vocab#mathima>', '<http://dilab77.ionio.gr/swp/you/resource/psixagogiko>'], ['_:3', '<http://dilab77.ionio.gr/swp/xitiri/vocab#aithousa>', '<http://dilab77.ionio.gr/swp/you/resource/2>'], ['_:3', '<http://dilab77.ionio.gr/swp/xitiri/vocab#eksamino>', '\"2\"'], ['_:3', '<http://dilab77.ionio.gr/swp/xitiri/vocab#dialeksh>', '\"22-02-2017\"'], ['_:4', '<http://dilab77.ionio.gr/swp/xitiri/vocab#kathigiths>', '<http://dilab77.ionio.gr/swp/you/resource/tsoxoy>'], ['_:4', '<http://dilab77.ionio.gr/swp/xitiri/vocab#mathima>', '<http://dilab77.ionio.gr/swp/you/resource/asfaleia>'], ['_:4', '<http://dilab77.ionio.gr/swp/xitiri/vocab#aithousa>', '<http://dilab77.ionio.gr/swp/you/resource/3>'], ['_:4', '<http://dilab77.ionio.gr/swp/xitiri/vocab#eksamino>', '\"2\"'], ['_:4', '<http://dilab77.ionio.gr/swp/xitiri/vocab#dialeksh>', '\"21-02-2017\"']]\n"
     ]
    }
   ],
   "source": [
    "# εφαρμόστε τις μετατροπές φτιάχνοντας μια νέα λίστα τριάδων\n",
    "import re\n",
    "rexp = re.compile(\"/\")\n",
    "def q_f(m):   \n",
    "    return '-'.format(ord(m.group(0)))\n",
    "def date(s):   \n",
    "    return rexp.sub(q_f,s)\n",
    "triples = []\n",
    "for e,a,v in eavlist:\n",
    "    if a.startswith ('http'):\n",
    "         a = '<'+a+'>'\n",
    "    if v.startswith ('http'):        \n",
    "         v = '<'+v+'>'   \n",
    "    if a == ('<http://dilab77.ionio.gr/swp/xitiri/vocab#dialeksh>'):      \n",
    "        v = date('\"'+v[2:]+'\"')\n",
    "    if a == ('<http://dilab77.ionio.gr/swp/xitiri/vocab#eksamino>'):\n",
    "        v = '\"'+v[2:]+'\"' \n",
    "    triples.append([e,a,v])\n",
    "print(triples) "
   ]
  },
  {
   "cell_type": "markdown",
   "metadata": {},
   "source": []
  },
  {
   "cell_type": "markdown",
   "metadata": {},
   "source": [
    "## Εδω εφτιαξα το αρχειο n-Triple οπως το ζηταει η εργασια."
   ]
  },
  {
   "cell_type": "code",
   "execution_count": 7,
   "metadata": {
    "collapsed": false
   },
   "outputs": [
    {
     "name": "stdout",
     "output_type": "stream",
     "text": [
      "_:0 <http://www.w3.org/1999/02/22-rdf-syntax-ns#type> <http://dilab77.ionio.gr/swp/xitiri/vocab#Eksamino>\n",
      "_:0 <http://www.w3.org/1999/02/22-rdf-syntax-ns#type> <http://dilab77.ionio.gr/swp/xitiri/vocab#Dialeksh>\n",
      "<http://dilab77.ionio.gr/swp/you/resource/pateli> <http://www.w3.org/1999/02/22-rdf-syntax-ns#type> <http://dilab77.ionio.gr/swp/xitiri/vocab#Kathigiths> .\n",
      "_:1 <http://www.w3.org/1999/02/22-rdf-syntax-ns#type> <http://dilab77.ionio.gr/swp/xitiri/vocab#Eksamino>\n",
      "_:1 <http://www.w3.org/1999/02/22-rdf-syntax-ns#type> <http://dilab77.ionio.gr/swp/xitiri/vocab#Dialeksh>\n",
      "<http://dilab77.ionio.gr/swp/you/resource/blamos> <http://www.w3.org/1999/02/22-rdf-syntax-ns#type> <http://dilab77.ionio.gr/swp/xitiri/vocab#Kathigiths> .\n",
      "_:2 <http://www.w3.org/1999/02/22-rdf-syntax-ns#type> <http://dilab77.ionio.gr/swp/xitiri/vocab#Eksamino>\n",
      "_:2 <http://www.w3.org/1999/02/22-rdf-syntax-ns#type> <http://dilab77.ionio.gr/swp/xitiri/vocab#Dialeksh>\n",
      "<http://dilab77.ionio.gr/swp/you/resource/komianos> <http://www.w3.org/1999/02/22-rdf-syntax-ns#type> <http://dilab77.ionio.gr/swp/xitiri/vocab#Kathigiths> .\n",
      "_:3 <http://www.w3.org/1999/02/22-rdf-syntax-ns#type> <http://dilab77.ionio.gr/swp/xitiri/vocab#Eksamino>\n",
      "_:3 <http://www.w3.org/1999/02/22-rdf-syntax-ns#type> <http://dilab77.ionio.gr/swp/xitiri/vocab#Dialeksh>\n",
      "<http://dilab77.ionio.gr/swp/you/resource/tsoxoy> <http://www.w3.org/1999/02/22-rdf-syntax-ns#type> <http://dilab77.ionio.gr/swp/xitiri/vocab#Kathigiths> .\n",
      "_:4 <http://www.w3.org/1999/02/22-rdf-syntax-ns#type> <http://dilab77.ionio.gr/swp/xitiri/vocab#Eksamino>\n",
      "_:4 <http://www.w3.org/1999/02/22-rdf-syntax-ns#type> <http://dilab77.ionio.gr/swp/xitiri/vocab#Dialeksh>\n"
     ]
    }
   ],
   "source": [
    "visited = set()\n",
    "with open('myN-triple.nt','w') as ofp:\n",
    "    for e,a,v in triples:\n",
    "        r='<http://www.w3.org/1999/02/22-rdf-syntax-ns#type>'\n",
    "        \n",
    "        if e not in visited and a.endswith('eksamino>'):\n",
    "            visited.add(e)\n",
    "            print(e,r,'<http://dilab77.ionio.gr/swp/xitiri/vocab#Eksamino>')\n",
    "            print(e,r,'<http://dilab77.ionio.gr/swp/xitiri/vocab#Dialeksh>')\n",
    "\n",
    "            ofp.write('{} {} {} . \\n'.format(e,r,'<http://dilab77.ionio.gr/swp/xitiri/vocab#Eksamino>'))\n",
    "            ofp.write('{} {} {} . \\n'.format(e,r,'<http://dilab77.ionio.gr/swp/xitiri/vocab#Dialeksh>'))\n",
    "            \n",
    "        \n",
    "            \n",
    "        if a=='<http://dilab77.ionio.gr/swp/xitiri/vocab#kathigiths>':\n",
    "\n",
    "            if v not in visited:\n",
    "                visited.add(v)\n",
    "           \n",
    "                print('{} {} {} .'.format(v,r,'<http://dilab77.ionio.gr/swp/xitiri/vocab#Kathigiths>'))\n",
    "                ofp.write('{} {} {} . \\n'.format(v,r,'<http://dilab77.ionio.gr/swp/xitiri/vocab#Kathigiths>'))  \n",
    "                \n",
    "        if a=='<http://dilab77.ionio.gr/swp/xitiri/vocab#Aithousa>':\n",
    "\n",
    "             if v not in visited:\n",
    "                visited.add(v)\n",
    " \n",
    "                print('{} {} {} .'.format(v,r,'<http://dilab77.ionio.gr/swp/xitiri/vocab#Aithousa>'))\n",
    "                ofp.write('{} {} {} . \\n'.format(v,r,'<http://dilab77.ionio.gr/swp/xitiri/vocab#Aithousa>'))\n",
    "        if a=='<http://dilab77.ionio.gr/swp/xitiri/vocab#Mathima>':\n",
    "            if v not in visited:\n",
    "                visited.add(v)\n",
    "\n",
    "                print('{} {} {} .'.format(v,r,'<http://dilab77.ionio.gr/swp/xitiri/vocab#Mathima>'))\n",
    "                ofp.write('{} {} {} . \\n'.format(v,r,'<http://dilab77.ionio.gr/swp/xitiri/vocab#Mathima>'))"
   ]
  },
  {
   "cell_type": "markdown",
   "metadata": {},
   "source": [
    "## Εγκυροτητα του αρχειου n-Triple."
   ]
  },
  {
   "cell_type": "code",
   "execution_count": 41,
   "metadata": {
    "collapsed": false
   },
   "outputs": [],
   "source": [
    "# δώστε την εντολή του παραδείγματος\n",
    "!riot --validate n-triples.nt"
   ]
  },
  {
   "cell_type": "markdown",
   "metadata": {},
   "source": []
  },
  {
   "cell_type": "code",
   "execution_count": null,
   "metadata": {
    "collapsed": false
   },
   "outputs": [],
   "source": []
  },
  {
   "cell_type": "code",
   "execution_count": 47,
   "metadata": {
    "collapsed": true
   },
   "outputs": [],
   "source": []
  },
  {
   "cell_type": "markdown",
   "metadata": {},
   "source": []
  }
 ],
 "metadata": {
  "kernelspec": {
   "display_name": "Python 3",
   "language": "python",
   "name": "python3"
  },
  "language_info": {
   "codemirror_mode": {
    "name": "ipython",
    "version": 3
   },
   "file_extension": ".py",
   "mimetype": "text/x-python",
   "name": "python",
   "nbconvert_exporter": "python",
   "pygments_lexer": "ipython3",
   "version": "3.4.4"
  }
 },
 "nbformat": 4,
 "nbformat_minor": 0
}

